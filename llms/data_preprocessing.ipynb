{
 "cells": [
  {
   "cell_type": "code",
   "execution_count": 1,
   "metadata": {},
   "outputs": [],
   "source": [
    "import re\n",
    "from datasets import load_dataset\n",
    "from transformers import AutoModelForCausalLM, AutoTokenizer, BitsAndBytesConfig, AutoTokenizer\n"
   ]
  },
  {
   "cell_type": "code",
   "execution_count": 2,
   "metadata": {},
   "outputs": [],
   "source": [
    "dataset_path = '../data/disjoint_word_init.json'\n",
    "model_name = 'meta-llama/Llama-2-7b-hf'\n",
    "# train_dataset = load_dataset('json', data_files=dataset_path, field=\"train\",split=\"train\")\n",
    "# val_dataset = load_dataset('json', data_files=dataset_path, field=\"val\",split=\"train\")\n",
    "# test_dataset = load_dataset('json', data_files=dataset_path, field=\"test\",split=\"train\")\n",
    "\n"
   ]
  },
  {
   "cell_type": "code",
   "execution_count": 5,
   "metadata": {},
   "outputs": [
    {
     "data": {
      "text/plain": [
       "Dataset({\n",
       "    features: ['unique_clue_id', 'soln_with_spaces', 'across_or_down', 'clue', 'number', 'creator', 'lengths', 'soln', 'dataset', 'id', 'lengths_punctuation', 'type', 'idx', 'pos', 'orig_lengths'],\n",
       "    num_rows: 75847\n",
       "})"
      ]
     },
     "execution_count": 5,
     "metadata": {},
     "output_type": "execute_result"
    }
   ],
   "source": []
  },
  {
   "cell_type": "code",
   "execution_count": 3,
   "metadata": {},
   "outputs": [],
   "source": [
    "\n",
    "tokenizer = AutoTokenizer.from_pretrained(model_name, trust_remote_code=True)\n",
    "tokenizer.pad_token = tokenizer.eos_token\n",
    "tokenizer.padding_side = 'right'\n",
    "\n",
    "DEFAULT_SYSTEM_PROMPT = \"\"\"\n",
    "Below is a clue for a decrypting crossword. Your task is to solve this clue. The number of characters in the answer should be same as the number in the parenthesis. Just output the answer only.\n",
    "\"\"\".strip()\n",
    "\n",
    "def generate_prompt(example, prompt_head, is_train, field='prompt'):\n",
    "\n",
    "\n",
    "    augmented_clue= f'{example[\"clue\"]} ({example[\"orig_lengths\"]})'\n",
    "\n",
    "    example['clue'] = augmented_clue\n",
    "    solution = example['soln_with_spaces']\n",
    "\n",
    "    \n",
    "    ## For training, we need to provide the system prompt, the idea and the story\n",
    "    if is_train:\n",
    "        example[field] =  f\"\"\"\n",
    "### Instruction: {prompt_head}\n",
    "\n",
    "### Input:\n",
    "{augmented_clue.strip()}\n",
    "\n",
    "### Response:\n",
    "{solution}\n",
    "\"\"\".strip()\n",
    "    \n",
    "    ## For validation and testing, we only need to provide the idea\n",
    "    else:\n",
    "        example[field] = f\"\"\"\n",
    "### Instruction: {prompt_head}\n",
    "\n",
    "### Input:\n",
    "{augmented_clue.strip()}\n",
    "\"\"\".strip()\n",
    "        \n",
    "    return example\n",
    "\n",
    "def get_dataset(path,split = 'train',tokenizer = tokenizer , field='prompt', prompt_head = DEFAULT_SYSTEM_PROMPT):\n",
    "\n",
    "    dataset = load_dataset('json', data_files=path, field=split , split='train')\n",
    "\n",
    "    if split == 'train':\n",
    "        dataset = dataset.map(generate_prompt , fn_kwargs={\"field\": field, \"prompt_head\": prompt_head, \"is_train\": True})\n",
    "    \n",
    "    else:\n",
    "        dataset = dataset.map(generate_prompt , fn_kwargs={\"field\": field, \"prompt_head\": prompt_head, \"is_train\": False})\n",
    "        \n",
    "    dataset = dataset.select_columns([field,'clue', 'soln_with_spaces'])\n",
    "\n",
    "\n",
    "    dataset = dataset.map(lambda x: tokenizer(x[field], padding=True, truncation=True), batched=True)\n",
    "    dataset = dataset.rename_column('soln_with_spaces', 'labels')\n",
    "\n",
    "    return dataset"
   ]
  },
  {
   "cell_type": "code",
   "execution_count": 4,
   "metadata": {},
   "outputs": [
    {
     "data": {
      "application/vnd.jupyter.widget-view+json": {
       "model_id": "5073364778b543e7b1617e6d128aad28",
       "version_major": 2,
       "version_minor": 0
      },
      "text/plain": [
       "Map:   0%|          | 0/32628 [00:00<?, ? examples/s]"
      ]
     },
     "metadata": {},
     "output_type": "display_data"
    },
    {
     "name": "stderr",
     "output_type": "stream",
     "text": [
      "Asking to truncate to max_length but no maximum length is provided and the model has no predefined maximum length. Default to no truncation.\n"
     ]
    }
   ],
   "source": [
    "\n",
    "train = get_dataset(dataset_path, split='val')"
   ]
  },
  {
   "cell_type": "code",
   "execution_count": 6,
   "metadata": {},
   "outputs": [
    {
     "name": "stdout",
     "output_type": "stream",
     "text": [
      "{'prompt': '### Instruction: Below is a clue for a decrypting crossword. Your task is to solve this clue. The number of characters in the answer should be same as the number in the parenthesis. Just output the answer only.\\n\\n### Input:\\nTension in an arm? Slightly (1,6)', 'clue': 'Tension in an arm? Slightly (1,6)', 'labels': 'a trifle', 'input_ids': [1, 835, 2799, 4080, 29901, 13866, 338, 263, 23960, 363, 263, 1602, 4641, 292, 4891, 1742, 29889, 3575, 3414, 338, 304, 4505, 445, 23960, 29889, 450, 1353, 310, 4890, 297, 278, 1234, 881, 367, 1021, 408, 278, 1353, 297, 278, 3847, 29882, 6656, 29889, 3387, 1962, 278, 1234, 871, 29889, 13, 13, 2277, 29937, 10567, 29901, 13, 29911, 2673, 297, 385, 5075, 29973, 317, 4366, 368, 313, 29896, 29892, 29953, 29897, 2, 2, 2, 2, 2, 2, 2, 2, 2, 2, 2, 2, 2, 2], 'attention_mask': [1, 1, 1, 1, 1, 1, 1, 1, 1, 1, 1, 1, 1, 1, 1, 1, 1, 1, 1, 1, 1, 1, 1, 1, 1, 1, 1, 1, 1, 1, 1, 1, 1, 1, 1, 1, 1, 1, 1, 1, 1, 1, 1, 1, 1, 1, 1, 1, 1, 1, 1, 1, 1, 1, 1, 1, 1, 1, 1, 1, 1, 1, 1, 1, 1, 1, 1, 1, 1, 1, 1, 0, 0, 0, 0, 0, 0, 0, 0, 0, 0, 0, 0, 0, 0]}\n"
     ]
    }
   ],
   "source": [
    "print(train[0])"
   ]
  },
  {
   "cell_type": "code",
   "execution_count": 9,
   "metadata": {},
   "outputs": [
    {
     "data": {
      "application/vnd.jupyter.widget-view+json": {
       "model_id": "efbaef49c2e44440aabb03ba9c61d043",
       "version_major": 2,
       "version_minor": 0
      },
      "text/plain": [
       "Map:   0%|          | 0/32628 [00:00<?, ? examples/s]"
      ]
     },
     "metadata": {},
     "output_type": "display_data"
    }
   ],
   "source": [
    "val = get_dataset(dataset_path, split='val')"
   ]
  },
  {
   "cell_type": "code",
   "execution_count": 10,
   "metadata": {},
   "outputs": [
    {
     "name": "stdout",
     "output_type": "stream",
     "text": [
      "### Instruction: Below is a clue for a decrypting crossword. Your task is to solve this clue. The number of characters in the answer should be same as the number in the parenthesis. Just output the answer only.\n",
      "\n",
      "### Input:\n",
      "Tension in an arm? Slightly (1,6)\n"
     ]
    }
   ],
   "source": [
    "print(val[0]['prompt'])\n"
   ]
  }
 ],
 "metadata": {
  "kernelspec": {
   "display_name": "Python 3",
   "language": "python",
   "name": "python3"
  },
  "language_info": {
   "codemirror_mode": {
    "name": "ipython",
    "version": 3
   },
   "file_extension": ".py",
   "mimetype": "text/x-python",
   "name": "python",
   "nbconvert_exporter": "python",
   "pygments_lexer": "ipython3",
   "version": "3.10.12"
  },
  "orig_nbformat": 4
 },
 "nbformat": 4,
 "nbformat_minor": 2
}
