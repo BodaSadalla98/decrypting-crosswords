{
 "cells": [
  {
   "cell_type": "code",
   "execution_count": 6,
   "metadata": {},
   "outputs": [],
   "source": [
    "from utils import generate_prompt\n",
    "\n",
    "base = '''The next line is a clue for a cryptic crossword. The clue consists of a definition  part, and a wordplay part. The answer consists of {n_words} words, and number of characters in the answer are {n_chars}. Output only the answer.\n",
    "'''"
   ]
  },
  {
   "cell_type": "code",
   "execution_count": 7,
   "metadata": {},
   "outputs": [
    {
     "data": {
      "text/plain": [
       "'The next line is a clue for a cryptic crossword. The clue consists of a definition  part, and a wordplay part. The answer consists of 2 words, and number of characters in the answer are 10. Output only the answer.\\n'"
      ]
     },
     "execution_count": 7,
     "metadata": {},
     "output_type": "execute_result"
    }
   ],
   "source": [
    "base.format(n_words='2', n_chars='10')"
   ]
  },
  {
   "cell_type": "code",
   "execution_count": 8,
   "metadata": {},
   "outputs": [],
   "source": [
    "import re\n",
    "def get_ans_words_chard(clue):\n",
    "    # Regular expression to match strings inside parentheses\n",
    "    pattern = r'\\((.*?)\\)'\n",
    "    # Find all matches\n",
    "    matches = re.findall(pattern, clue)[-1]\n",
    "\n",
    "    numbers = matches.split(',')\n",
    "\n",
    "    return len(numbers), matches\n"
   ]
  },
  {
   "cell_type": "code",
   "execution_count": 4,
   "metadata": {},
   "outputs": [
    {
     "data": {
      "text/plain": [
       "(2, '4,4')"
      ]
     },
     "execution_count": 4,
     "metadata": {},
     "output_type": "execute_result"
    }
   ],
   "source": [
    "get_ans_words_chard('what has little possibility of happening - a hole in one? (4,4)')"
   ]
  },
  {
   "cell_type": "code",
   "execution_count": 9,
   "metadata": {},
   "outputs": [
    {
     "data": {
      "text/plain": [
       "{'clue': 'what has little possibility of happening - a hole in one? (4,5,6,1,2)',\n",
       " 'labels': 'asd',\n",
       " 'prompt': '### Instruction: The next line is a clue for a cryptic crossword. The clue consists of a definition  part, and a wordplay part. The answer consists of 5 words, and number of characters in the answer are 4,5,6,1,2. Output only the answer.\\n\\n\\n### Input:\\nwhat has little possibility of happening - a hole in one? (4,5,6,1,2)\\n\\n### Response:\\nasd'}"
      ]
     },
     "execution_count": 9,
     "metadata": {},
     "output_type": "execute_result"
    }
   ],
   "source": [
    "generate_prompt({'clue': 'what has little possibility of happening - a hole in one? (4,5,6,1,2)', 'labels': 'asd'}, base, True)"
   ]
  }
 ],
 "metadata": {
  "kernelspec": {
   "display_name": "Python 3",
   "language": "python",
   "name": "python3"
  },
  "language_info": {
   "codemirror_mode": {
    "name": "ipython",
    "version": 3
   },
   "file_extension": ".py",
   "mimetype": "text/x-python",
   "name": "python",
   "nbconvert_exporter": "python",
   "pygments_lexer": "ipython3",
   "version": "3.10.12"
  },
  "orig_nbformat": 4
 },
 "nbformat": 4,
 "nbformat_minor": 2
}
