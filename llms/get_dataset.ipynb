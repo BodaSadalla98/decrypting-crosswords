{
 "cells": [
  {
   "cell_type": "code",
   "execution_count": 1,
   "metadata": {},
   "outputs": [],
   "source": [
    "from datasets import load_dataset , load_from_disk\n"
   ]
  },
  {
   "cell_type": "code",
   "execution_count": 3,
   "metadata": {},
   "outputs": [],
   "source": [
    "DEFAULT_SYSTEM_PROMPT = \"\"\"\n",
    "Below is a clue for a decrypting crossword. Your task is to solve this clue. The number of characters in the answer should be same as the number in the parenthesis. Just output the answer only.\n",
    "\"\"\".strip()\n",
    "\n",
    "def generate_prompt(example, prompt_head, is_train, field='prompt', old_dataset = False):\n",
    "\n",
    "\n",
    "    augmented_clue = example['clue']\n",
    "    solution = example['labels']\n",
    "    \n",
    "    ## For training, we need to provide the system prompt, the idea and the story\n",
    "    if is_train:\n",
    "        example[field] =  f\"\"\"\n",
    "### Instruction: {prompt_head}\n",
    "\n",
    "### Input:\n",
    "{augmented_clue.strip()}\n",
    "\n",
    "### Response:\n",
    "{solution}\n",
    "\"\"\".strip()\n",
    "    \n",
    "    ## For validation and testing, we only need to provide the idea\n",
    "    else:\n",
    "        example[field] = f\"\"\"\n",
    "### Instruction: {prompt_head}\n",
    "\n",
    "### Input:\n",
    "{augmented_clue.strip()}\n",
    "\"\"\".strip()\n",
    "        \n",
    "    return example"
   ]
  },
  {
   "cell_type": "code",
   "execution_count": 18,
   "metadata": {},
   "outputs": [],
   "source": [
    "def get_dataset(dataset_path,split = 'train', field='prompt', prompt_head = DEFAULT_SYSTEM_PROMPT, old_dataset = False):\n",
    "\n",
    "\n",
    "    if old_dataset:\n",
    "        dataset = load_dataset('json', data_files=dataset_path , split='train')\n",
    "        dataset = dataset.remove_columns(['idx'])\n",
    "        dataset = dataset.rename_column('target', 'labels')\n",
    "        dataset = dataset.rename_column('input', 'clue')\n",
    "\n",
    "\n",
    "    else:\n",
    "        dataset = load_from_disk(dataset_path)\n",
    "\n",
    "        assert split in dataset.keys(), f\"Split {split} not found in dataset {dataset_path}\"\n",
    "\n",
    "        dataset = dataset[split]\n",
    "        print('------------------ TRAINING ON UNIQUE CLUES ------------------')\n",
    "\n",
    "\n",
    "\n",
    "    dataset = dataset.map(generate_prompt ,\n",
    "                            fn_kwargs={\"field\": field, \"prompt_head\": prompt_head, \"is_train\": split == 'train',\"old_dataset\": False})\n",
    "\n",
    "\n",
    "\n",
    "        \n",
    "    return dataset"
   ]
  },
  {
   "cell_type": "code",
   "execution_count": 24,
   "metadata": {},
   "outputs": [
    {
     "name": "stdout",
     "output_type": "stream",
     "text": [
      "------------------ TRAINING ON UNIQUE CLUES ------------------\n"
     ]
    },
    {
     "data": {
      "application/vnd.jupyter.widget-view+json": {
       "model_id": "237f090cdb944f57aa4256c4b91e5273",
       "version_major": 2,
       "version_minor": 0
      },
      "text/plain": [
       "Map:   0%|          | 0/50659 [00:00<?, ? examples/s]"
      ]
     },
     "metadata": {},
     "output_type": "display_data"
    }
   ],
   "source": [
    "ds = get_dataset('data/unique_targets', split = 'train', field='prompt', prompt_head = DEFAULT_SYSTEM_PROMPT, old_dataset = 0)"
   ]
  },
  {
   "cell_type": "code",
   "execution_count": 25,
   "metadata": {},
   "outputs": [
    {
     "data": {
      "text/plain": [
       "Dataset({\n",
       "    features: ['labels', 'clue', 'prompt'],\n",
       "    num_rows: 50659\n",
       "})"
      ]
     },
     "execution_count": 25,
     "metadata": {},
     "output_type": "execute_result"
    }
   ],
   "source": [
    "ds"
   ]
  },
  {
   "cell_type": "code",
   "execution_count": 26,
   "metadata": {},
   "outputs": [
    {
     "data": {
      "text/plain": [
       "'### Instruction: Below is a clue for a decrypting crossword. Your task is to solve this clue. The number of characters in the answer should be same as the number in the parenthesis. Just output the answer only.\\n\\n### Input:\\nHairy thing faced extinction initially, certainly around US city, ending in death (7)\\n\\n### Response:\\neyelash'"
      ]
     },
     "execution_count": 26,
     "metadata": {},
     "output_type": "execute_result"
    }
   ],
   "source": [
    "ds['prompt'][0]"
   ]
  },
  {
   "cell_type": "code",
   "execution_count": null,
   "metadata": {},
   "outputs": [],
   "source": []
  }
 ],
 "metadata": {
  "kernelspec": {
   "display_name": "Python 3",
   "language": "python",
   "name": "python3"
  },
  "language_info": {
   "codemirror_mode": {
    "name": "ipython",
    "version": 3
   },
   "file_extension": ".py",
   "mimetype": "text/x-python",
   "name": "python",
   "nbconvert_exporter": "python",
   "pygments_lexer": "ipython3",
   "version": "3.10.12"
  },
  "orig_nbformat": 4
 },
 "nbformat": 4,
 "nbformat_minor": 2
}
