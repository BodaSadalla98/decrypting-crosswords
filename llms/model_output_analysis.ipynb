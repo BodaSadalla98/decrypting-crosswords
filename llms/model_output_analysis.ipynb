{
 "cells": [
  {
   "cell_type": "code",
   "execution_count": 1,
   "metadata": {},
   "outputs": [],
   "source": [
    "from datasets import load_dataset\n",
    "\n",
    "dataset = load_dataset('json', data_files='data/clue_json/guardian/word_initial_disjoint/test.json', split='train')\n",
    "\n"
   ]
  },
  {
   "cell_type": "code",
   "execution_count": 67,
   "metadata": {},
   "outputs": [
    {
     "data": {
      "text/plain": [
       "['chatgpt_eval_results_32619.txt',\n",
       " 'chatgpt_eval_results_32627_3shots_learning.txt',\n",
       " 'llama_disjoint_1.5k_output_test_disjoint.txt',\n",
       " 'llama_disjoint_2_new_1.5k_output_test_disjoint.txt',\n",
       " 'llama_indicator_0_few_shot.txt',\n",
       " 'llama_indicator_10_few_shot.txt',\n",
       " 'llama_indicator_3_few_shot.txt',\n",
       " 'llama_naive_1.5k_output_test_naive.txt',\n",
       " 'mistral_disjoint_2_new_2k_output_test_disjoint.txt',\n",
       " 'mistral_disjoint_2k_test_output_disjoint.txt',\n",
       " 'mistral_indicator_0_few_shot.txt',\n",
       " 'mistral_indicator_10_few_shot.txt',\n",
       " 'mistral_indicator_3_few_shot.txt',\n",
       " 'mistral_naive_1k_output_test_naive.txt',\n",
       " 'mistral_naive_random_unique_1k.txt',\n",
       " 'mistral_naive_random_unique_3k.txt']"
      ]
     },
     "execution_count": 67,
     "metadata": {},
     "output_type": "execute_result"
    }
   ],
   "source": [
    "file_names = open('outputs/included/file_names.txt', 'r').read().split('\\n')\n",
    "\n",
    "file_names"
   ]
  },
  {
   "cell_type": "code",
   "execution_count": 97,
   "metadata": {},
   "outputs": [],
   "source": [
    "# for file in file_names:\n",
    "\n",
    "file = 'mistral_disjoint_2k_test_output_disjoint.txt'\n",
    "\n",
    "output_file_path = 'outputs/included/' + file\n",
    "\n",
    "# output_file_path = 'outputs/included/mistral_normal_3_few_shot.txt'\n",
    "\n",
    "\n",
    "with open(output_file_path, 'r') as f:\n",
    "    output_file = f.readlines()\n",
    "\n",
    "dataset_path = output_file[0].split('Dataset:')[1].strip()\n",
    "dataset = load_dataset('json', data_files=dataset_path, split='train')"
   ]
  },
  {
   "cell_type": "code",
   "execution_count": 99,
   "metadata": {},
   "outputs": [],
   "source": [
    "\n",
    "\n",
    "\n",
    "output = []\n",
    "\n",
    "idx = 2\n",
    "\n",
    "for i, l in enumerate(output_file):\n",
    "\n",
    "    output.append(l)\n",
    "    if  i < len(output_file) -3 and  output_file[i+1] == '\\n' and ('-' * 10 ) in  l:\n",
    "\n",
    "        # if ' '.join(output_file[i+3].split('|')[1].split(' ')[1:-3]) != dataset[idx]['target']:\n",
    "        while ' '.join(output_file[i+3].split('|')[1].split(' ')[1:-3]) != dataset[idx]['target']:\n",
    "            idx += 1\n",
    "\n",
    "\n",
    "\n",
    "        output.append(dataset[idx]['input']+ '\\n')\n",
    "        # idx += 1\n",
    "\n",
    "\n",
    "\n",
    "write_file_path = 'outputs/outputs_with_clues/' + file.split('.txt')[0] + '_with_clue.txt'\n",
    "with open(write_file_path, 'w') as f:\n",
    "        f.writelines(output)"
   ]
  },
  {
   "cell_type": "code",
   "execution_count": 33,
   "metadata": {},
   "outputs": [
    {
     "data": {
      "text/plain": [
       "'couch potato'"
      ]
     },
     "execution_count": 33,
     "metadata": {},
     "output_type": "execute_result"
    }
   ],
   "source": [
    "' '.join('stay at | couch potato  ❌'.split('|')[1].split(' ')[1:-2])"
   ]
  },
  {
   "cell_type": "code",
   "execution_count": 88,
   "metadata": {},
   "outputs": [
    {
     "data": {
      "text/plain": [
       "'outputs/outputs_with_clues/mistral_disjoint_2k_test_output_disjoint_with_clue.txt'"
      ]
     },
     "execution_count": 88,
     "metadata": {},
     "output_type": "execute_result"
    }
   ],
   "source": [
    "write_file_path"
   ]
  },
  {
   "cell_type": "code",
   "execution_count": null,
   "metadata": {},
   "outputs": [],
   "source": []
  }
 ],
 "metadata": {
  "kernelspec": {
   "display_name": "Python 3",
   "language": "python",
   "name": "python3"
  },
  "language_info": {
   "codemirror_mode": {
    "name": "ipython",
    "version": 3
   },
   "file_extension": ".py",
   "mimetype": "text/x-python",
   "name": "python",
   "nbconvert_exporter": "python",
   "pygments_lexer": "ipython3",
   "version": "3.10.12"
  },
  "orig_nbformat": 4
 },
 "nbformat": 4,
 "nbformat_minor": 2
}
