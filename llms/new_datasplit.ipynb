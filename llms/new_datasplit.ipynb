{
 "cells": [
  {
   "cell_type": "code",
   "execution_count": 1,
   "metadata": {},
   "outputs": [],
   "source": [
    "from datasets import load_dataset, concatenate_datasets,Dataset\n",
    "import pandas as pd\n"
   ]
  },
  {
   "cell_type": "code",
   "execution_count": 2,
   "metadata": {},
   "outputs": [],
   "source": [
    "train_dataset = load_dataset('json', data_files='data/clue_json/guardian/naive_random/train.json', split='train')\n",
    "\n",
    "test_dataset = load_dataset('json', data_files='data/clue_json/guardian/naive_random/test.json', split='train')\n",
    "\n",
    "val_dataset = load_dataset('json', data_files='data/clue_json/guardian/naive_random/val.json', split='train')"
   ]
  },
  {
   "cell_type": "code",
   "execution_count": 3,
   "metadata": {},
   "outputs": [],
   "source": [
    "\n",
    "one_dataset = concatenate_datasets([train_dataset, test_dataset, val_dataset])"
   ]
  },
  {
   "cell_type": "code",
   "execution_count": 4,
   "metadata": {},
   "outputs": [
    {
     "data": {
      "text/plain": [
       "142380"
      ]
     },
     "execution_count": 4,
     "metadata": {},
     "output_type": "execute_result"
    }
   ],
   "source": [
    "len(one_dataset)"
   ]
  },
  {
   "cell_type": "code",
   "execution_count": 5,
   "metadata": {},
   "outputs": [],
   "source": [
    "one_dataset = one_dataset.shuffle().remove_columns('idx')"
   ]
  },
  {
   "cell_type": "code",
   "execution_count": 6,
   "metadata": {},
   "outputs": [],
   "source": [
    "grouped = pd.DataFrame(one_dataset)\n",
    "\n",
    "df= pd.DataFrame(one_dataset)\n",
    "grouped = grouped.groupby('target')\n",
    "\n"
   ]
  },
  {
   "cell_type": "code",
   "execution_count": 7,
   "metadata": {},
   "outputs": [],
   "source": [
    "samples = pd.DataFrame(one_dataset).groupby('target').sample(frac=0.51)"
   ]
  },
  {
   "cell_type": "code",
   "execution_count": 8,
   "metadata": {},
   "outputs": [],
   "source": [
    "# samples.value_counts('target'), df.value_counts('target')"
   ]
  },
  {
   "cell_type": "code",
   "execution_count": 9,
   "metadata": {},
   "outputs": [],
   "source": [
    "assert set(samples['target'].unique()) == set(df['target'].unique())"
   ]
  },
  {
   "cell_type": "code",
   "execution_count": 10,
   "metadata": {},
   "outputs": [
    {
     "data": {
      "application/vnd.jupyter.widget-view+json": {
       "model_id": "8deffc2716694182b1b67649d27050cf",
       "version_major": 2,
       "version_minor": 0
      },
      "text/plain": [
       "Saving the dataset (0/1 shards):   0%|          | 0/81941 [00:00<?, ? examples/s]"
      ]
     },
     "metadata": {},
     "output_type": "display_data"
    },
    {
     "data": {
      "application/vnd.jupyter.widget-view+json": {
       "model_id": "ea4f82f12d194e9290cc1bbeb1881102",
       "version_major": 2,
       "version_minor": 0
      },
      "text/plain": [
       "Saving the dataset (0/1 shards):   0%|          | 0/9105 [00:00<?, ? examples/s]"
      ]
     },
     "metadata": {},
     "output_type": "display_data"
    }
   ],
   "source": [
    "\n",
    "ds = Dataset.from_pandas(samples)\n",
    "ds = ds.rename_column ('input', 'clue')\n",
    "ds = ds.rename_column ('target', 'labels')\n",
    "ds = ds.shuffle()\n",
    "ds = ds.train_test_split(test_size=0.1).remove_columns('__index_level_0__')\n",
    "\n",
    "ds.save_to_disk('/home/abdelrahman.sadallah/mbzuai/decrypting-crosswords/llms/data/half_targets')\n"
   ]
  },
  {
   "cell_type": "code",
   "execution_count": 11,
   "metadata": {},
   "outputs": [],
   "source": [
    "\n",
    "# ds = pd.DataFrame(one_dataset)\n",
    "# ds.drop_duplicates(subset=['target'], inplace=True)\n",
    "\n",
    "\n",
    "# ds = Dataset.from_pandas(ds)\n",
    "\n",
    "# ds = ds.train_test_split(test_size=0.1).remove_columns('__index_level_0__')\n",
    "\n",
    "# ds = ds.rename_column ('input', 'clue')\n",
    "# ds = ds.rename_column ('target', 'labels')\n",
    "\n",
    "# ds.save_to_disk('/home/abdelrahman.sadallah/mbzuai/decrypting-crosswords/llms/data/half_taergets')"
   ]
  },
  {
   "cell_type": "code",
   "execution_count": 12,
   "metadata": {},
   "outputs": [
    {
     "data": {
      "text/plain": [
       "DatasetDict({\n",
       "    train: Dataset({\n",
       "        features: ['clue', 'labels'],\n",
       "        num_rows: 81941\n",
       "    })\n",
       "    test: Dataset({\n",
       "        features: ['clue', 'labels'],\n",
       "        num_rows: 9105\n",
       "    })\n",
       "})"
      ]
     },
     "execution_count": 12,
     "metadata": {},
     "output_type": "execute_result"
    }
   ],
   "source": [
    "ds"
   ]
  },
  {
   "cell_type": "code",
   "execution_count": 13,
   "metadata": {},
   "outputs": [],
   "source": [
    "from datasets import load_from_disk\n",
    "\n",
    "d = load_from_disk('/home/abdelrahman.sadallah/mbzuai/decrypting-crosswords/llms/data/half_targets')"
   ]
  },
  {
   "cell_type": "code",
   "execution_count": 14,
   "metadata": {},
   "outputs": [
    {
     "data": {
      "text/plain": [
       "DatasetDict({\n",
       "    train: Dataset({\n",
       "        features: ['clue', 'labels'],\n",
       "        num_rows: 81941\n",
       "    })\n",
       "    test: Dataset({\n",
       "        features: ['clue', 'labels'],\n",
       "        num_rows: 9105\n",
       "    })\n",
       "})"
      ]
     },
     "execution_count": 14,
     "metadata": {},
     "output_type": "execute_result"
    }
   ],
   "source": [
    "d"
   ]
  },
  {
   "cell_type": "code",
   "execution_count": 15,
   "metadata": {},
   "outputs": [],
   "source": [
    "train_dataset = load_dataset('json', data_files='data/clue_json/guardian/word_initial_disjoint/train.json', split='train')\n",
    "test_dataset = load_dataset('json', data_files='data/clue_json/guardian/word_initial_disjoint/test.json', split='train')\n",
    "val_dataset = load_dataset('json', data_files='data/clue_json/guardian/word_initial_disjoint/val.json', split='train')"
   ]
  },
  {
   "cell_type": "code",
   "execution_count": 16,
   "metadata": {},
   "outputs": [],
   "source": [
    "train_disjoint_dataset = concatenate_datasets([train_dataset, val_dataset])\n",
    "\n",
    "\n",
    "train_df = pd.DataFrame(train_disjoint_dataset)\n",
    "test_df = pd.DataFrame(test_dataset)\n",
    "\n"
   ]
  },
  {
   "cell_type": "code",
   "execution_count": 18,
   "metadata": {},
   "outputs": [],
   "source": [
    "train_sampled = pd.DataFrame(train_df).groupby('target').sample(frac=0.51)\n",
    "test_sampled = pd.DataFrame(test_df).groupby('target').sample(frac=0.51)\n",
    "\n",
    "\n",
    "\n"
   ]
  },
  {
   "cell_type": "code",
   "execution_count": 19,
   "metadata": {},
   "outputs": [],
   "source": [
    "assert set(train_sampled['target'].unique()) == set(train_df['target'].unique())\n",
    "assert set(test_sampled['target'].unique()) == set(test_df['target'].unique())\n"
   ]
  },
  {
   "cell_type": "code",
   "execution_count": 20,
   "metadata": {},
   "outputs": [],
   "source": [
    "train_dataset = Dataset.from_pandas(train_sampled)\n",
    "test_dataset = Dataset.from_pandas(test_sampled)\n",
    "\n",
    "train_dataset = train_dataset.rename_column ('input', 'clue')\n",
    "train_dataset = train_dataset.rename_column ('target', 'labels')\n",
    "test_dataset = test_dataset.rename_column ('input', 'clue')\n",
    "test_dataset = test_dataset.rename_column ('target', 'labels')\n",
    "\n",
    "train_dataset = train_dataset.shuffle()\n",
    "test_dataset = test_dataset.shuffle()\n",
    "\n",
    "\n",
    "# ds = ds.train_test_split(test_size=0.1).remove_columns('__index_level_0__')\n",
    "\n",
    "# ds.save_to_disk('/home/abdelrahman.sadallah/mbzuai/decrypting-crosswords/llms/data/half_taergets')"
   ]
  },
  {
   "cell_type": "code",
   "execution_count": 21,
   "metadata": {},
   "outputs": [
    {
     "data": {
      "text/plain": [
       "Dataset({\n",
       "    features: ['idx', 'labels', 'clue', '__index_level_0__'],\n",
       "    num_rows: 69339\n",
       "})"
      ]
     },
     "execution_count": 21,
     "metadata": {},
     "output_type": "execute_result"
    }
   ],
   "source": [
    "train_dataset\n"
   ]
  },
  {
   "cell_type": "code",
   "execution_count": 22,
   "metadata": {},
   "outputs": [
    {
     "data": {
      "text/plain": [
       "Dataset({\n",
       "    features: ['idx', 'clue', 'labels', '__index_level_0__'],\n",
       "    num_rows: 21707\n",
       "})"
      ]
     },
     "execution_count": 22,
     "metadata": {},
     "output_type": "execute_result"
    }
   ],
   "source": [
    "test_dataset"
   ]
  },
  {
   "cell_type": "code",
   "execution_count": 23,
   "metadata": {},
   "outputs": [],
   "source": [
    "\n",
    "train_dataset = train_dataset.remove_columns('__index_level_0__')\n",
    "test_dataset = test_dataset.remove_columns('__index_level_0__')\n"
   ]
  },
  {
   "cell_type": "code",
   "execution_count": 24,
   "metadata": {},
   "outputs": [
    {
     "data": {
      "text/plain": [
       "datasets.arrow_dataset.Dataset"
      ]
     },
     "execution_count": 24,
     "metadata": {},
     "output_type": "execute_result"
    }
   ],
   "source": [
    "type(train_dataset)"
   ]
  },
  {
   "cell_type": "code",
   "execution_count": 25,
   "metadata": {},
   "outputs": [
    {
     "data": {
      "text/plain": [
       "DatasetDict({\n",
       "    train: Dataset({\n",
       "        features: ['labels', 'clue'],\n",
       "        num_rows: 69339\n",
       "    })\n",
       "    test: Dataset({\n",
       "        features: ['clue', 'labels'],\n",
       "        num_rows: 21707\n",
       "    })\n",
       "})"
      ]
     },
     "execution_count": 25,
     "metadata": {},
     "output_type": "execute_result"
    }
   ],
   "source": [
    "from datasets import DatasetDict\n",
    "# train_dataset.save_to_disk('/home/abdelrahman.sadallah/mbzuai/decrypting-crosswords/llms/data/disjoint_half_taergets/train')\n",
    "# test_dataset.save_to_disk('/home/abdelrahman.sadallah/mbzuai/decrypting-crosswords/llms/data/disjoint_half_taergets/test')\n",
    "\n",
    "all_dataset = DatasetDict({'train': train_dataset, 'test': test_dataset})\n",
    "all_dataset.remove_columns(['idx'])\n",
    "# all_dataset.save_to_disk('/home/abdelrahman.sadallah/mbzuai/decrypting-crosswords/llms/data/disjoint_half_taergets')\n"
   ]
  },
  {
   "cell_type": "code",
   "execution_count": 26,
   "metadata": {},
   "outputs": [
    {
     "name": "stderr",
     "output_type": "stream",
     "text": [
      "100%|██████████| 42793/42793 [00:04<00:00, 9136.96it/s]\n"
     ]
    }
   ],
   "source": [
    "from tqdm import tqdm\n",
    "a =  all_dataset['train'].unique('labels')\n",
    "b = all_dataset['test'].unique('labels')\n",
    "\n",
    "c = 0\n",
    "for v in tqdm(a):\n",
    "    if v in b:\n",
    "        c+=1"
   ]
  },
  {
   "cell_type": "code",
   "execution_count": 28,
   "metadata": {},
   "outputs": [
    {
     "data": {
      "application/vnd.jupyter.widget-view+json": {
       "model_id": "85fb45c141904a3891dcf461ec2bdc54",
       "version_major": 2,
       "version_minor": 0
      },
      "text/plain": [
       "Saving the dataset (0/1 shards):   0%|          | 0/69339 [00:00<?, ? examples/s]"
      ]
     },
     "metadata": {},
     "output_type": "display_data"
    },
    {
     "data": {
      "application/vnd.jupyter.widget-view+json": {
       "model_id": "09a49d384c24426d86476fb0141587b9",
       "version_major": 2,
       "version_minor": 0
      },
      "text/plain": [
       "Saving the dataset (0/1 shards):   0%|          | 0/21707 [00:00<?, ? examples/s]"
      ]
     },
     "metadata": {},
     "output_type": "display_data"
    }
   ],
   "source": [
    "all_dataset.save_to_disk('/home/abdelrahman.sadallah/mbzuai/decrypting-crosswords/llms/data/disjoint_half_taergets')\n"
   ]
  }
 ],
 "metadata": {
  "kernelspec": {
   "display_name": "Python 3",
   "language": "python",
   "name": "python3"
  },
  "language_info": {
   "codemirror_mode": {
    "name": "ipython",
    "version": 3
   },
   "file_extension": ".py",
   "mimetype": "text/x-python",
   "name": "python",
   "nbconvert_exporter": "python",
   "pygments_lexer": "ipython3",
   "version": "3.10.12"
  },
  "orig_nbformat": 4
 },
 "nbformat": 4,
 "nbformat_minor": 2
}
