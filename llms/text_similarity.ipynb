{
 "cells": [
  {
   "cell_type": "code",
   "execution_count": 1,
   "metadata": {},
   "outputs": [],
   "source": [
    "from sentence_transformers import SentenceTransformer, util\n",
    "\n",
    "\n",
    "\n",
    "model = SentenceTransformer('sentence-transformers/all-MiniLM-L6-v2')\n",
    "\n"
   ]
  },
  {
   "cell_type": "code",
   "execution_count": 2,
   "metadata": {},
   "outputs": [
    {
     "name": "stderr",
     "output_type": "stream",
     "text": [
      "  0%|          | 0/24 [00:00<?, ?it/s]"
     ]
    },
    {
     "name": "stdout",
     "output_type": "stream",
     "text": [
      "outputs/included/chatgpt_eval_results_32627_3shots_learning.txt\n"
     ]
    },
    {
     "name": "stderr",
     "output_type": "stream",
     "text": [
      "130549it [08:41, 250.36it/s]\n",
      "  4%|▍         | 1/24 [08:41<3:19:53, 521.47s/it]"
     ]
    },
    {
     "name": "stdout",
     "output_type": "stream",
     "text": [
      "outputs/included/mistral_normal_3_few_shot.txt\n"
     ]
    },
    {
     "name": "stderr",
     "output_type": "stream",
     "text": [
      "113893it [08:20, 227.43it/s]\n",
      "  8%|▊         | 2/24 [17:02<3:06:45, 509.33s/it]"
     ]
    },
    {
     "name": "stdout",
     "output_type": "stream",
     "text": [
      "outputs/included/mistral_cryptonite_1.5_cryptonite_test.txt\n"
     ]
    },
    {
     "name": "stderr",
     "output_type": "stream",
     "text": [
      "104621it [06:23, 273.00it/s]\n",
      " 12%|█▎        | 3/24 [23:25<2:38:06, 451.76s/it]"
     ]
    },
    {
     "name": "stdout",
     "output_type": "stream",
     "text": [
      "outputs/included/mistral_indicator_0_few_shot.txt\n"
     ]
    },
    {
     "name": "stderr",
     "output_type": "stream",
     "text": [
      "113861it [07:54, 240.03it/s]\n",
      " 21%|██        | 5/24 [31:19<1:44:35, 330.30s/it]"
     ]
    },
    {
     "name": "stdout",
     "output_type": "stream",
     "text": [
      "outputs/included/mistral_disjoint_2_new_2k_output_test_disjoint.txt\n"
     ]
    },
    {
     "name": "stderr",
     "output_type": "stream",
     "text": [
      "135613it [09:44, 231.93it/s]\n",
      " 25%|██▌       | 6/24 [41:04<2:01:04, 403.56s/it]"
     ]
    },
    {
     "name": "stdout",
     "output_type": "stream",
     "text": [
      "outputs/included/mistral_disjoint_2k_test_output_disjoint.txt\n"
     ]
    },
    {
     "name": "stderr",
     "output_type": "stream",
     "text": [
      "135612it [09:32, 236.97it/s]\n",
      " 29%|██▉       | 7/24 [50:37<2:08:16, 452.74s/it]"
     ]
    },
    {
     "name": "stdout",
     "output_type": "stream",
     "text": [
      "outputs/included/llama_normal_3_few_shot.txt\n"
     ]
    },
    {
     "name": "stderr",
     "output_type": "stream",
     "text": [
      "113893it [07:49, 242.80it/s]\n",
      " 33%|███▎      | 8/24 [58:26<2:02:00, 457.56s/it]"
     ]
    },
    {
     "name": "stdout",
     "output_type": "stream",
     "text": [
      "outputs/included/llama_naive_1.5k_output_test_naive.txt\n"
     ]
    },
    {
     "name": "stderr",
     "output_type": "stream",
     "text": [
      "113705it [07:12, 262.99it/s]\n",
      " 38%|███▊      | 9/24 [1:05:38<1:52:31, 450.11s/it]"
     ]
    },
    {
     "name": "stdout",
     "output_type": "stream",
     "text": [
      "outputs/included/chatgpt_eval_results_32619.txt\n"
     ]
    },
    {
     "name": "stderr",
     "output_type": "stream",
     "text": [
      "130467it [08:37, 251.93it/s]\n",
      " 42%|████▏     | 10/24 [1:14:16<1:49:43, 470.24s/it]"
     ]
    },
    {
     "name": "stdout",
     "output_type": "stream",
     "text": [
      "outputs/included/llama_disjoint_1.5k_output_test_disjoint.txt\n"
     ]
    },
    {
     "name": "stderr",
     "output_type": "stream",
     "text": [
      "135393it [09:35, 235.13it/s]\n",
      " 46%|████▌     | 11/24 [1:23:52<1:48:42, 501.70s/it]"
     ]
    },
    {
     "name": "stdout",
     "output_type": "stream",
     "text": [
      "outputs/included/mistral_indicator_3_few_shot.txt\n"
     ]
    },
    {
     "name": "stderr",
     "output_type": "stream",
     "text": [
      "113893it [07:49, 242.41it/s]\n",
      " 50%|█████     | 12/24 [1:31:42<1:38:26, 492.20s/it]"
     ]
    },
    {
     "name": "stdout",
     "output_type": "stream",
     "text": [
      "outputs/included/mistral_normal_10_few_shot.txt\n"
     ]
    },
    {
     "name": "stderr",
     "output_type": "stream",
     "text": [
      "113893it [07:42, 246.08it/s]\n",
      " 54%|█████▍    | 13/24 [1:39:24<1:28:37, 483.43s/it]"
     ]
    },
    {
     "name": "stdout",
     "output_type": "stream",
     "text": [
      "outputs/included/mistral_disjoint_1k_cryptonite_filtered_full_testset_with_clue.txt\n"
     ]
    },
    {
     "name": "stderr",
     "output_type": "stream",
     "text": [
      "72911it [04:04, 298.67it/s]\n",
      " 58%|█████▊    | 14/24 [1:43:29<1:08:38, 411.81s/it]"
     ]
    },
    {
     "name": "stdout",
     "output_type": "stream",
     "text": [
      "outputs/included/mistral_word_init_disjoint_unique_3k.txt\n"
     ]
    },
    {
     "name": "stderr",
     "output_type": "stream",
     "text": [
      "53973it [03:47, 237.04it/s]\n",
      " 62%|██████▎   | 15/24 [1:47:16<53:30, 356.67s/it]  "
     ]
    },
    {
     "name": "stdout",
     "output_type": "stream",
     "text": [
      "outputs/included/mistral_disjoint_half_targets_2_new_2k_output_test_disjoint_half_targets.txt\n"
     ]
    },
    {
     "name": "stderr",
     "output_type": "stream",
     "text": [
      "86821it [04:25, 326.80it/s]\n",
      " 67%|██████▋   | 16/24 [1:51:42<43:55, 329.41s/it]"
     ]
    },
    {
     "name": "stdout",
     "output_type": "stream",
     "text": [
      "outputs/included/mistral_naive_random_unique_3k.txt\n"
     ]
    },
    {
     "name": "stderr",
     "output_type": "stream",
     "text": [
      "33769it [01:39, 339.47it/s]\n",
      " 71%|███████   | 17/24 [1:53:22<30:23, 260.49s/it]"
     ]
    },
    {
     "name": "stdout",
     "output_type": "stream",
     "text": [
      "outputs/included/mistral_disjoint_1k_cryptonite_filtered_quick_testset.txt\n"
     ]
    },
    {
     "name": "stderr",
     "output_type": "stream",
     "text": [
      "4385it [00:12, 349.52it/s]\n",
      " 75%|███████▌  | 18/24 [1:53:34<18:36, 186.15s/it]"
     ]
    },
    {
     "name": "stdout",
     "output_type": "stream",
     "text": [
      "outputs/included/llama_indicator_0_few_shot.txt\n"
     ]
    },
    {
     "name": "stderr",
     "output_type": "stream",
     "text": [
      "113881it [05:28, 346.82it/s]\n",
      " 79%|███████▉  | 19/24 [1:59:02<19:04, 228.80s/it]"
     ]
    },
    {
     "name": "stdout",
     "output_type": "stream",
     "text": [
      "outputs/included/llama_disjoint_2_new_1.5k_output_test_disjoint.txt\n"
     ]
    },
    {
     "name": "stderr",
     "output_type": "stream",
     "text": [
      "135597it [06:51, 329.34it/s]\n",
      " 83%|████████▎ | 20/24 [2:05:54<18:54, 283.67s/it]"
     ]
    },
    {
     "name": "stdout",
     "output_type": "stream",
     "text": [
      "outputs/included/llama_normal_10_few_shot.txt\n"
     ]
    },
    {
     "name": "stderr",
     "output_type": "stream",
     "text": [
      "113893it [05:24, 350.89it/s]\n",
      " 88%|████████▊ | 21/24 [2:11:19<14:47, 295.95s/it]"
     ]
    },
    {
     "name": "stdout",
     "output_type": "stream",
     "text": [
      "outputs/included/llama_indicator_10_few_shot.txt\n"
     ]
    },
    {
     "name": "stderr",
     "output_type": "stream",
     "text": [
      "113889it [07:51, 241.52it/s]\n",
      " 92%|█████████▏| 22/24 [2:19:10<11:37, 348.63s/it]"
     ]
    },
    {
     "name": "stdout",
     "output_type": "stream",
     "text": [
      "outputs/included/mistral_disjoint_1k_cryptonite_filtered_quick_testset_with_clue.txt\n"
     ]
    },
    {
     "name": "stderr",
     "output_type": "stream",
     "text": [
      "5481it [00:20, 264.26it/s]\n",
      " 96%|█████████▌| 23/24 [2:19:31<04:10, 250.28s/it]"
     ]
    },
    {
     "name": "stdout",
     "output_type": "stream",
     "text": [
      "outputs/included/llama_indicator_3_few_shot.txt\n"
     ]
    },
    {
     "name": "stderr",
     "output_type": "stream",
     "text": [
      "113893it [07:47, 243.74it/s]\n",
      "100%|██████████| 24/24 [2:27:18<00:00, 368.29s/it]\n"
     ]
    }
   ],
   "source": [
    "import os\n",
    "from tqdm import tqdm\n",
    "import json\n",
    "similarities_dict = []\n",
    "base_dir = 'outputs/included'\n",
    "\n",
    "dir =directory = os.fsencode(base_dir)\n",
    "\n",
    "\n",
    "files = os.listdir(directory)[6:]\n",
    "for file in tqdm(files):\n",
    "\n",
    "    filename = os.fsdecode(file)\n",
    "\n",
    "    if filename.endswith(\".txt\"):\n",
    "        sim = 0.0\n",
    "        cnt = 0\n",
    "\n",
    "        save_name = filename\n",
    "        filename = os.path.join(base_dir, filename)\n",
    "        print(filename)\n",
    "        lines = []\n",
    "        with open(filename, 'r') as f:\n",
    "            lines = f.readlines()\n",
    "\n",
    "\n",
    "            lines = list(lines[7:])\n",
    "            # for i,line in enumerate(tqdm(lines)):\n",
    "            for i,line in tqdm(enumerate(lines)):\n",
    "                if   ('-' * 10 ) in  line:\n",
    "\n",
    "                    # ' '.join(output_file[i+3].split('|')[1].split(' ')[1:-3])\n",
    "                    line_segments = lines[i-1].split('|')\n",
    "\n",
    "                    if len(line_segments)< 2:\n",
    "                        print(line)\n",
    "                    label = ' '.join(line_segments[1].split(' ')[1:-3]).strip()\n",
    "                    prediction = line_segments[0].strip()\n",
    "\n",
    "                    ### Only consider the wrong examples\n",
    "                    if label == prediction:\n",
    "                        continue\n",
    "\n",
    "                    embedding_1= model.encode(label, convert_to_tensor=True)\n",
    "                    embedding_2 = model.encode(prediction, convert_to_tensor=True)\n",
    "                    sim += util.pytorch_cos_sim(embedding_1, embedding_2)\n",
    "                    cnt += 1\n",
    "\n",
    "        # save_key = filename.split('.txt')[0] + '_similarity.txt'\n",
    "        \n",
    "        # similarities_dict[save_key] = sim/cnt\n",
    "        similarities_dict.append({'filename': save_name, 'similarity' : sim.item()/cnt})\n",
    "\n",
    "\n",
    "\n",
    "\n",
    "# #Compute embedding for both lists\n",
    "# embedding_1= model.encode(sentences[0], convert_to_tensor=True)\n",
    "# embedding_2 = model.encode(sentences[1], convert_to_tensor=True)\n",
    "\n",
    "# sim = util.pytorch_cos_sim(embedding_1, embedding_2)"
   ]
  },
  {
   "cell_type": "code",
   "execution_count": 3,
   "metadata": {},
   "outputs": [],
   "source": [
    "save_results_path = base_dir  + 'similarity_results.json'\n",
    "\n",
    "with open(save_results_path, 'w')as f:\n",
    "    json.dump(similarities_dict,f)"
   ]
  },
  {
   "cell_type": "code",
   "execution_count": 4,
   "metadata": {},
   "outputs": [
    {
     "data": {
      "text/plain": [
       "[{'filename': 'chatgpt_eval_results_32627_3shots_learning.txt',\n",
       "  'similarity': 0.26035912872548106},\n",
       " {'filename': 'mistral_normal_3_few_shot.txt',\n",
       "  'similarity': 0.2563265511580269},\n",
       " {'filename': 'mistral_cryptonite_1.5_cryptonite_test.txt',\n",
       "  'similarity': 0.27961570198791563},\n",
       " {'filename': 'mistral_indicator_0_few_shot.txt',\n",
       "  'similarity': 0.253681175298915},\n",
       " {'filename': 'mistral_disjoint_2_new_2k_output_test_disjoint.txt',\n",
       "  'similarity': 0.25217527353184543},\n",
       " {'filename': 'mistral_disjoint_2k_test_output_disjoint.txt',\n",
       "  'similarity': 0.2521862395432226},\n",
       " {'filename': 'llama_normal_3_few_shot.txt',\n",
       "  'similarity': 0.26083533621289007},\n",
       " {'filename': 'llama_naive_1.5k_output_test_naive.txt',\n",
       "  'similarity': 0.26286855555130506},\n",
       " {'filename': 'chatgpt_eval_results_32619.txt',\n",
       "  'similarity': 0.2564453541758995},\n",
       " {'filename': 'llama_disjoint_1.5k_output_test_disjoint.txt',\n",
       "  'similarity': 0.2531108857905633},\n",
       " {'filename': 'mistral_indicator_3_few_shot.txt',\n",
       "  'similarity': 0.25562388615076537},\n",
       " {'filename': 'mistral_normal_10_few_shot.txt',\n",
       "  'similarity': 0.2565082272786625},\n",
       " {'filename': 'mistral_disjoint_1k_cryptonite_filtered_full_testset_with_clue.txt',\n",
       "  'similarity': 0.2621494959151122},\n",
       " {'filename': 'mistral_word_init_disjoint_unique_3k.txt',\n",
       "  'similarity': 0.2503568506488916},\n",
       " {'filename': 'mistral_disjoint_half_targets_2_new_2k_output_test_disjoint_half_targets.txt',\n",
       "  'similarity': 0.25642820643655845},\n",
       " {'filename': 'mistral_naive_random_unique_3k.txt',\n",
       "  'similarity': 0.2614045548535552},\n",
       " {'filename': 'mistral_disjoint_1k_cryptonite_filtered_quick_testset.txt',\n",
       "  'similarity': 0.26615078513192947},\n",
       " {'filename': 'llama_indicator_0_few_shot.txt',\n",
       "  'similarity': 0.256002023985118},\n",
       " {'filename': 'llama_disjoint_2_new_1.5k_output_test_disjoint.txt',\n",
       "  'similarity': 0.253784332157408},\n",
       " {'filename': 'llama_normal_10_few_shot.txt',\n",
       "  'similarity': 0.2633395994505097},\n",
       " {'filename': 'llama_indicator_10_few_shot.txt',\n",
       "  'similarity': 0.26102648684228374},\n",
       " {'filename': 'mistral_disjoint_1k_cryptonite_filtered_quick_testset_with_clue.txt',\n",
       "  'similarity': 0.26615078513192947},\n",
       " {'filename': 'llama_indicator_3_few_shot.txt',\n",
       "  'similarity': 0.2608438541291426}]"
      ]
     },
     "execution_count": 4,
     "metadata": {},
     "output_type": "execute_result"
    }
   ],
   "source": [
    "similarities_dict"
   ]
  },
  {
   "cell_type": "code",
   "execution_count": 5,
   "metadata": {},
   "outputs": [
    {
     "data": {
      "text/plain": [
       "'outputs/includedsimilarity_results.json'"
      ]
     },
     "execution_count": 5,
     "metadata": {},
     "output_type": "execute_result"
    }
   ],
   "source": [
    "save_results_path"
   ]
  }
 ],
 "metadata": {
  "kernelspec": {
   "display_name": "Python 3",
   "language": "python",
   "name": "python3"
  },
  "language_info": {
   "codemirror_mode": {
    "name": "ipython",
    "version": 3
   },
   "file_extension": ".py",
   "mimetype": "text/x-python",
   "name": "python",
   "nbconvert_exporter": "python",
   "pygments_lexer": "ipython3",
   "version": "3.10.12"
  },
  "orig_nbformat": 4
 },
 "nbformat": 4,
 "nbformat_minor": 2
}
